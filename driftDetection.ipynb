{
  "nbformat": 4,
  "nbformat_minor": 0,
  "metadata": {
    "colab": {
      "provenance": [],
      "collapsed_sections": []
    },
    "kernelspec": {
      "name": "python3",
      "display_name": "Python 3"
    },
    "language_info": {
      "name": "python"
    },
    "accelerator": "GPU",
    "gpuClass": "standard"
  },
  "cells": [
    {
      "cell_type": "code",
      "execution_count": 1,
      "metadata": {
        "colab": {
          "base_uri": "https://localhost:8080/"
        },
        "id": "uq5_z8Fp9jWG",
        "outputId": "1e73ed33-c353-4b1e-f4e2-7a9164a806b2"
      },
      "outputs": [
        {
          "output_type": "stream",
          "name": "stdout",
          "text": [
            "Looking in indexes: https://pypi.org/simple, https://us-python.pkg.dev/colab-wheels/public/simple/\n",
            "Collecting alibi-detect\n",
            "  Downloading alibi_detect-0.10.3-py3-none-any.whl (306 kB)\n",
            "\u001b[K     |████████████████████████████████| 306 kB 14.9 MB/s \n",
            "\u001b[?25hRequirement already satisfied: opencv-python<5.0.0,>=3.2.0 in /usr/local/lib/python3.7/dist-packages (from alibi-detect) (4.6.0.66)\n",
            "Requirement already satisfied: scipy<2.0.0,>=1.3.0 in /usr/local/lib/python3.7/dist-packages (from alibi-detect) (1.7.3)\n",
            "Requirement already satisfied: matplotlib<4.0.0,>=3.0.0 in /usr/local/lib/python3.7/dist-packages (from alibi-detect) (3.2.2)\n",
            "Requirement already satisfied: toml<1.0.0,>=0.10.1 in /usr/local/lib/python3.7/dist-packages (from alibi-detect) (0.10.2)\n",
            "Requirement already satisfied: catalogue<3.0.0,>=2.0.0 in /usr/local/lib/python3.7/dist-packages (from alibi-detect) (2.0.8)\n",
            "Requirement already satisfied: typing-extensions>=3.7.4.3 in /usr/local/lib/python3.7/dist-packages (from alibi-detect) (4.1.1)\n",
            "Requirement already satisfied: requests<3.0.0,>=2.21.0 in /usr/local/lib/python3.7/dist-packages (from alibi-detect) (2.23.0)\n",
            "Requirement already satisfied: scikit-learn<2.0.0,>=0.20.2 in /usr/local/lib/python3.7/dist-packages (from alibi-detect) (1.0.2)\n",
            "Requirement already satisfied: pydantic<2.0.0,>=1.8.0 in /usr/local/lib/python3.7/dist-packages (from alibi-detect) (1.9.2)\n",
            "Collecting transformers<5.0.0,>=4.0.0\n",
            "  Downloading transformers-4.21.2-py3-none-any.whl (4.7 MB)\n",
            "\u001b[K     |████████████████████████████████| 4.7 MB 61.7 MB/s \n",
            "\u001b[?25hRequirement already satisfied: dill<0.4.0,>=0.3.0 in /usr/local/lib/python3.7/dist-packages (from alibi-detect) (0.3.5.1)\n",
            "Collecting numba!=0.54.0,<0.56.0,>=0.50.0\n",
            "  Downloading numba-0.55.2-cp37-cp37m-manylinux2014_x86_64.manylinux_2_17_x86_64.whl (3.3 MB)\n",
            "\u001b[K     |████████████████████████████████| 3.3 MB 60.7 MB/s \n",
            "\u001b[?25hRequirement already satisfied: tqdm<5.0.0,>=4.28.1 in /usr/local/lib/python3.7/dist-packages (from alibi-detect) (4.64.0)\n",
            "Requirement already satisfied: numpy<2.0.0,>=1.16.2 in /usr/local/lib/python3.7/dist-packages (from alibi-detect) (1.21.6)\n",
            "Requirement already satisfied: scikit-image!=0.17.1,<0.20,>=0.14.2 in /usr/local/lib/python3.7/dist-packages (from alibi-detect) (0.18.3)\n",
            "Requirement already satisfied: Pillow<10.0.0,>=5.4.1 in /usr/local/lib/python3.7/dist-packages (from alibi-detect) (7.1.2)\n",
            "Requirement already satisfied: pandas<2.0.0,>=0.23.3 in /usr/local/lib/python3.7/dist-packages (from alibi-detect) (1.3.5)\n",
            "Requirement already satisfied: zipp>=0.5 in /usr/local/lib/python3.7/dist-packages (from catalogue<3.0.0,>=2.0.0->alibi-detect) (3.8.1)\n",
            "Requirement already satisfied: cycler>=0.10 in /usr/local/lib/python3.7/dist-packages (from matplotlib<4.0.0,>=3.0.0->alibi-detect) (0.11.0)\n",
            "Requirement already satisfied: python-dateutil>=2.1 in /usr/local/lib/python3.7/dist-packages (from matplotlib<4.0.0,>=3.0.0->alibi-detect) (2.8.2)\n",
            "Requirement already satisfied: kiwisolver>=1.0.1 in /usr/local/lib/python3.7/dist-packages (from matplotlib<4.0.0,>=3.0.0->alibi-detect) (1.4.4)\n",
            "Requirement already satisfied: pyparsing!=2.0.4,!=2.1.2,!=2.1.6,>=2.0.1 in /usr/local/lib/python3.7/dist-packages (from matplotlib<4.0.0,>=3.0.0->alibi-detect) (3.0.9)\n",
            "Collecting llvmlite<0.39,>=0.38.0rc1\n",
            "  Downloading llvmlite-0.38.1-cp37-cp37m-manylinux_2_17_x86_64.manylinux2014_x86_64.whl (34.5 MB)\n",
            "\u001b[K     |████████████████████████████████| 34.5 MB 19 kB/s \n",
            "\u001b[?25hRequirement already satisfied: setuptools in /usr/local/lib/python3.7/dist-packages (from numba!=0.54.0,<0.56.0,>=0.50.0->alibi-detect) (57.4.0)\n",
            "Requirement already satisfied: pytz>=2017.3 in /usr/local/lib/python3.7/dist-packages (from pandas<2.0.0,>=0.23.3->alibi-detect) (2022.2.1)\n",
            "Requirement already satisfied: six>=1.5 in /usr/local/lib/python3.7/dist-packages (from python-dateutil>=2.1->matplotlib<4.0.0,>=3.0.0->alibi-detect) (1.15.0)\n",
            "Requirement already satisfied: urllib3!=1.25.0,!=1.25.1,<1.26,>=1.21.1 in /usr/local/lib/python3.7/dist-packages (from requests<3.0.0,>=2.21.0->alibi-detect) (1.24.3)\n",
            "Requirement already satisfied: chardet<4,>=3.0.2 in /usr/local/lib/python3.7/dist-packages (from requests<3.0.0,>=2.21.0->alibi-detect) (3.0.4)\n",
            "Requirement already satisfied: idna<3,>=2.5 in /usr/local/lib/python3.7/dist-packages (from requests<3.0.0,>=2.21.0->alibi-detect) (2.10)\n",
            "Requirement already satisfied: certifi>=2017.4.17 in /usr/local/lib/python3.7/dist-packages (from requests<3.0.0,>=2.21.0->alibi-detect) (2022.6.15)\n",
            "Requirement already satisfied: tifffile>=2019.7.26 in /usr/local/lib/python3.7/dist-packages (from scikit-image!=0.17.1,<0.20,>=0.14.2->alibi-detect) (2021.11.2)\n",
            "Requirement already satisfied: imageio>=2.3.0 in /usr/local/lib/python3.7/dist-packages (from scikit-image!=0.17.1,<0.20,>=0.14.2->alibi-detect) (2.9.0)\n",
            "Requirement already satisfied: networkx>=2.0 in /usr/local/lib/python3.7/dist-packages (from scikit-image!=0.17.1,<0.20,>=0.14.2->alibi-detect) (2.6.3)\n",
            "Requirement already satisfied: PyWavelets>=1.1.1 in /usr/local/lib/python3.7/dist-packages (from scikit-image!=0.17.1,<0.20,>=0.14.2->alibi-detect) (1.3.0)\n",
            "Requirement already satisfied: joblib>=0.11 in /usr/local/lib/python3.7/dist-packages (from scikit-learn<2.0.0,>=0.20.2->alibi-detect) (1.1.0)\n",
            "Requirement already satisfied: threadpoolctl>=2.0.0 in /usr/local/lib/python3.7/dist-packages (from scikit-learn<2.0.0,>=0.20.2->alibi-detect) (3.1.0)\n",
            "Requirement already satisfied: importlib-metadata in /usr/local/lib/python3.7/dist-packages (from transformers<5.0.0,>=4.0.0->alibi-detect) (4.12.0)\n",
            "Requirement already satisfied: pyyaml>=5.1 in /usr/local/lib/python3.7/dist-packages (from transformers<5.0.0,>=4.0.0->alibi-detect) (6.0)\n",
            "Requirement already satisfied: packaging>=20.0 in /usr/local/lib/python3.7/dist-packages (from transformers<5.0.0,>=4.0.0->alibi-detect) (21.3)\n",
            "Requirement already satisfied: filelock in /usr/local/lib/python3.7/dist-packages (from transformers<5.0.0,>=4.0.0->alibi-detect) (3.8.0)\n",
            "Collecting tokenizers!=0.11.3,<0.13,>=0.11.1\n",
            "  Downloading tokenizers-0.12.1-cp37-cp37m-manylinux_2_12_x86_64.manylinux2010_x86_64.whl (6.6 MB)\n",
            "\u001b[K     |████████████████████████████████| 6.6 MB 53.8 MB/s \n",
            "\u001b[?25hRequirement already satisfied: regex!=2019.12.17 in /usr/local/lib/python3.7/dist-packages (from transformers<5.0.0,>=4.0.0->alibi-detect) (2022.6.2)\n",
            "Collecting huggingface-hub<1.0,>=0.1.0\n",
            "  Downloading huggingface_hub-0.9.1-py3-none-any.whl (120 kB)\n",
            "\u001b[K     |████████████████████████████████| 120 kB 70.3 MB/s \n",
            "\u001b[?25hInstalling collected packages: tokenizers, llvmlite, huggingface-hub, transformers, numba, alibi-detect\n",
            "  Attempting uninstall: llvmlite\n",
            "    Found existing installation: llvmlite 0.39.0\n",
            "    Uninstalling llvmlite-0.39.0:\n",
            "      Successfully uninstalled llvmlite-0.39.0\n",
            "  Attempting uninstall: numba\n",
            "    Found existing installation: numba 0.56.0\n",
            "    Uninstalling numba-0.56.0:\n",
            "      Successfully uninstalled numba-0.56.0\n",
            "Successfully installed alibi-detect-0.10.3 huggingface-hub-0.9.1 llvmlite-0.38.1 numba-0.55.2 tokenizers-0.12.1 transformers-4.21.2\n"
          ]
        }
      ],
      "source": [
        "pip install alibi-detect"
      ]
    },
    {
      "cell_type": "code",
      "source": [
        "# !unzip /content/drive/MyDrive/Dataset.zip"
      ],
      "metadata": {
        "id": "1RRs_ZUzjlTc"
      },
      "execution_count": 25,
      "outputs": []
    },
    {
      "cell_type": "code",
      "source": [
        "# !unzip /content/drive/MyDrive/Models/Resnet152_2022.zip"
      ],
      "metadata": {
        "colab": {
          "base_uri": "https://localhost:8080/"
        },
        "id": "9q5HyN6r-Kl9",
        "outputId": "2835cd32-caa0-4021-927f-9fb22fadf99d"
      },
      "execution_count": 26,
      "outputs": [
        {
          "output_type": "stream",
          "name": "stdout",
          "text": [
            "Archive:  /content/drive/MyDrive/Models/Resnet152_2022.zip\n",
            "   creating: content/saved_model/Resnet152_2022-08-31/\n",
            "  inflating: content/saved_model/Resnet152_2022-08-31/keras_metadata.pb  \n",
            "   creating: content/saved_model/Resnet152_2022-08-31/variables/\n",
            "  inflating: content/saved_model/Resnet152_2022-08-31/variables/variables.data-00000-of-00001  \n",
            "  inflating: content/saved_model/Resnet152_2022-08-31/variables/variables.index  \n",
            "  inflating: content/saved_model/Resnet152_2022-08-31/saved_model.pb  \n",
            "   creating: content/saved_model/Resnet152_2022-08-31/assets/\n"
          ]
        }
      ]
    },
    {
      "cell_type": "code",
      "source": [
        "# !rm -rf /content/__MACOSX"
      ],
      "metadata": {
        "id": "2cdBZA1g-S76"
      },
      "execution_count": 27,
      "outputs": []
    },
    {
      "cell_type": "code",
      "source": [
        "import matplotlib.pyplot as plt\n",
        "import numpy as np\n",
        "import os\n",
        "import tensorflow as tf\n",
        "\n",
        "from alibi_detect.cd import ClassifierDrift\n",
        "from alibi_detect.cd import KSDrift\n",
        "from alibi_detect.models.tensorflow import scale_by_instance\n",
        "from alibi_detect.utils.fetching import fetch_tf_model, fetch_detector\n",
        "from alibi_detect.saving import save_detector, load_detector\n",
        "from alibi_detect.datasets import fetch_cifar10c, corruption_types_cifar10c"
      ],
      "metadata": {
        "id": "K9GBpUwz_HiP"
      },
      "execution_count": 2,
      "outputs": []
    },
    {
      "cell_type": "code",
      "source": [
        "\n",
        "train_dir='/content/Dataset/train'\n",
        "valid_dir='/content/Dataset/val'\n",
        "test_dir='/content/Dataset/test'\n",
        "\n",
        "Size=224"
      ],
      "metadata": {
        "id": "hTrA285a_Ldz"
      },
      "execution_count": 3,
      "outputs": []
    },
    {
      "cell_type": "code",
      "source": [
        "import tensorflow as tf\n",
        "train_generator=tf.keras.preprocessing.image.ImageDataGenerator(\n",
        "    rotation_range=25,\n",
        "    width_shift_range=0.1,\n",
        "    height_shift_range=0.1,\n",
        "    shear_range=0.1,\n",
        "    zoom_range=0.1,\n",
        "    horizontal_flip=True,\n",
        "    rescale=1/255.0,\n",
        ").flow_from_directory(train_dir,batch_size=16,target_size=(Size,Size),subset=\"training\",shuffle=True)\n",
        "\n",
        "valid_generator=tf.keras.preprocessing.image.ImageDataGenerator(\n",
        "    rescale=1/255.0,\n",
        ").flow_from_directory(valid_dir,batch_size=16,target_size=(Size,Size),shuffle=False)\n",
        "\n",
        "test_gen = tf.keras.preprocessing.image.ImageDataGenerator(\n",
        "    rescale=1/255.0,\n",
        ").flow_from_directory(test_dir,batch_size=16,target_size=(Size,Size),shuffle=False)\n"
      ],
      "metadata": {
        "colab": {
          "base_uri": "https://localhost:8080/"
        },
        "id": "EFtuc5Rqj_UL",
        "outputId": "65d1da60-dd81-4821-b238-9e9ef3345c12"
      },
      "execution_count": 15,
      "outputs": [
        {
          "output_type": "stream",
          "name": "stdout",
          "text": [
            "Found 42230 images belonging to 38 classes.\n",
            "Found 9042 images belonging to 38 classes.\n",
            "Found 9071 images belonging to 38 classes.\n"
          ]
        }
      ]
    },
    {
      "cell_type": "code",
      "source": [
        "X_train, y_train = next(train_generator)\n",
        "X_test, y_test = next(valid_generator)\n"
      ],
      "metadata": {
        "id": "BcYzkMqNgu_X"
      },
      "execution_count": 19,
      "outputs": []
    },
    {
      "cell_type": "code",
      "source": [
        "X_train = X_train.astype('float32') / 255\n",
        "X_test = X_test.astype('float32') / 255\n",
        "y_train = y_train.astype('int64').reshape(-1,)\n",
        "y_test = y_test.astype('int64').reshape(-1,)"
      ],
      "metadata": {
        "colab": {
          "base_uri": "https://localhost:8080/"
        },
        "id": "wrAKgOVvix8Q",
        "outputId": "671b521a-3b6e-4460-e28c-5f5a263d319a"
      },
      "execution_count": 22,
      "outputs": [
        {
          "output_type": "execute_result",
          "data": {
            "text/plain": [
              "16"
            ]
          },
          "metadata": {},
          "execution_count": 22
        }
      ]
    },
    {
      "cell_type": "code",
      "source": [
        "np.random.seed(0)\n",
        "n_test = X_test.shape[0]\n",
        "idx = np.random.choice(n_test, size=n_test // 2, replace=False)\n",
        "idx_h0 = np.delete(np.arange(n_test), idx, axis=0)\n",
        "X_ref,y_ref = X_test[idx], y_test[idx]\n",
        "X_h0, y_h0 = X_test[idx_h0], y_test[idx_h0]\n",
        "print(X_ref.shape, X_h0.shape)"
      ],
      "metadata": {
        "colab": {
          "base_uri": "https://localhost:8080/"
        },
        "id": "KorFfemUjzRX",
        "outputId": "719fd8d2-57d9-42c3-ba65-e309dc467a6d"
      },
      "execution_count": 8,
      "outputs": [
        {
          "output_type": "stream",
          "name": "stdout",
          "text": [
            "(8, 224, 224, 3) (8, 224, 224, 3)\n"
          ]
        }
      ]
    },
    {
      "cell_type": "code",
      "source": [
        "new_model = tf.keras.models.load_model(f'/content/Resnet152_2022-08-31')\n",
        "# Evaluate the restored model\n",
        "loss, acc = new_model.evaluate(valid_generator)\n",
        "print('Restored model, accuracy: {:5.2f}%'.format(100 * acc))\n",
        "print(new_model.predict(valid_generator).shape)"
      ],
      "metadata": {
        "colab": {
          "base_uri": "https://localhost:8080/"
        },
        "id": "VHfRIj4rkB_x",
        "outputId": "80b975d4-2c4b-450b-d20a-594742352c1f"
      },
      "execution_count": 9,
      "outputs": [
        {
          "output_type": "stream",
          "name": "stdout",
          "text": [
            "566/566 [==============================] - 48s 65ms/step - loss: 0.1333 - accuracy: 0.9586\n",
            "Restored model, accuracy: 95.86%\n",
            "(9042, 38)\n"
          ]
        }
      ]
    },
    {
      "cell_type": "code",
      "source": [
        "from keras.utils.vis_utils import plot_model\n",
        "plot_model(new_model, to_file='/tmp/model.png', show_shapes=True,)"
      ],
      "metadata": {
        "colab": {
          "base_uri": "https://localhost:8080/",
          "height": 644
        },
        "id": "329xeM8Zrcz8",
        "outputId": "ff0a1d96-eaf2-43ca-f7a8-2df2349000d9"
      },
      "execution_count": 11,
      "outputs": [
        {
          "output_type": "execute_result",
          "data": {
            "image/png": "[encoded data removed]",
            "text/plain": [
              "<IPython.core.display.Image object>"
            ]
          },
          "metadata": {},
          "execution_count": 11
        }
      ]
    },
    {
      "cell_type": "code",
      "source": [
        "cd = ClassifierDrift(X_ref, new_model, p_val=.05, preds_type='probs', n_folds=5, epochs=2)"
      ],
      "metadata": {
        "colab": {
          "base_uri": "https://localhost:8080/"
        },
        "id": "Rj0WrM38kOFC",
        "outputId": "47a02dff-f6c9-4d17-d81d-e74d9ab5e9ba"
      },
      "execution_count": 12,
      "outputs": [
        {
          "output_type": "stream",
          "name": "stderr",
          "text": [
            "WARNING:alibi_detect.cd.base:Both `n_folds` and `train_size` specified. By default `n_folds` is used.\n"
          ]
        }
      ]
    },
    {
      "cell_type": "code",
      "source": [
        "preds = cd.predict(X_test)"
      ],
      "metadata": {
        "id": "dGRdHxt4mxf3"
      },
      "execution_count": 13,
      "outputs": []
    },
    {
      "cell_type": "code",
      "source": [
        "preds"
      ],
      "metadata": {
        "colab": {
          "base_uri": "https://localhost:8080/"
        },
        "id": "sCb9IONmnbcB",
        "outputId": "ed7245a9-cd37-4e9a-dde1-6f11f5deabe9"
      },
      "execution_count": 14,
      "outputs": [
        {
          "output_type": "execute_result",
          "data": {
            "text/plain": [
              "{'data': {'is_drift': 0,\n",
              "  'distance': 0.1875,\n",
              "  'p_val': 0.6646026831785345,\n",
              "  'threshold': 0.05,\n",
              "  'probs_ref': array([0.02631667, 0.0262976 , 0.0263121 , 0.02633244, 0.02629456,\n",
              "         0.02631102, 0.02632137, 0.02632386], dtype=float32),\n",
              "  'probs_test': array([0.02633141, 0.02633099, 0.02629821, 0.02633316, 0.02631604,\n",
              "         0.0263103 , 0.02631407, 0.0263149 , 0.0263121 , 0.02631748,\n",
              "         0.02632613, 0.02632101, 0.02632753, 0.02629456, 0.02631067,\n",
              "         0.02629942], dtype=float32),\n",
              "  'model': <keras.engine.functional.Functional at 0x7f78deaf3b10>},\n",
              " 'meta': {'name': 'ClassifierDriftTF',\n",
              "  'online': False,\n",
              "  'data_type': None,\n",
              "  'version': '0.10.3',\n",
              "  'detector_type': 'drift',\n",
              "  'params': {'binarize_preds ': False, 'preds_type': 'probs'},\n",
              "  'backend': 'tensorflow'}}"
            ]
          },
          "metadata": {},
          "execution_count": 14
        }
      ]
    },
    {
      "cell_type": "markdown",
      "source": [
        "##ChiSquareDrift"
      ],
      "metadata": {
        "id": "uGpJ0LtnumkI"
      }
    },
    {
      "cell_type": "code",
      "source": [
        "from alibi_detect.cd import ChiSquareDrift\n",
        "\n",
        "cd = ChiSquareDrift(X_ref, p_val=0.05)"
      ],
      "metadata": {
        "id": "hpdYIyClulr7"
      },
      "execution_count": 23,
      "outputs": []
    },
    {
      "cell_type": "code",
      "source": [
        "preds = cd.predict(X_test, drift_type='batch', return_p_val=True, return_distance=True)"
      ],
      "metadata": {
        "id": "5pVfzxwPs463"
      },
      "execution_count": 24,
      "outputs": []
    },
    {
      "cell_type": "code",
      "source": [
        "preds"
      ],
      "metadata": {
        "colab": {
          "base_uri": "https://localhost:8080/"
        },
        "id": "v_k7O4RsuxZh",
        "outputId": "b8aefa68-d25a-4acf-d003-dfb9b993a2e0"
      },
      "execution_count": 25,
      "outputs": [
        {
          "output_type": "execute_result",
          "data": {
            "text/plain": [
              "{'data': {'is_drift': 0,\n",
              "  'distance': array([24., 24., 24., ..., 24., 24., 24.], dtype=float32),\n",
              "  'p_val': array([0.40380844, 0.34722942, 0.29305854, ..., 0.24239217, 0.40380844,\n",
              "         0.34722942], dtype=float32),\n",
              "  'threshold': 3.3216411564625853e-07},\n",
              " 'meta': {'name': 'ChiSquareDrift',\n",
              "  'online': False,\n",
              "  'data_type': None,\n",
              "  'version': '0.10.3',\n",
              "  'detector_type': 'drift'}}"
            ]
          },
          "metadata": {},
          "execution_count": 25
        }
      ]
    },
    {
      "cell_type": "code",
      "source": [],
      "metadata": {
        "id": "bid3LsPJvMTt"
      },
      "execution_count": null,
      "outputs": []
    }
  ]
}